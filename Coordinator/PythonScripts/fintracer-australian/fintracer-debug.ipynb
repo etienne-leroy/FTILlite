{
 "cells": [
  {
   "cell_type": "code",
   "execution_count": 1,
   "id": "83533ace-cd0d-413e-871b-bf70b2541bb8",
   "metadata": {},
   "outputs": [
    {
     "name": "stdout",
     "output_type": "stream",
     "text": [
      "WARNING: Importing file debug_elgamal.py. These classes DO NOT PERFORM ANY ENCRYPTION. *NEVER* USE THESE CLASSES IN PRODUCTION CODE.\n"
     ]
    }
   ],
   "source": [
    "import ftillite as fl\n",
    "\n",
    "from pair import *\n",
    "from dictionary import *\n",
    "from debug_elgamal import *\n",
    "\n",
    "import logging\n",
    "from datetime import datetime\n",
    "from logging.handlers import RotatingFileHandler\n",
    "import sys \n",
    "import time\n",
    "\n",
    "app_name = \"test_cases\"\n",
    "def create_logger(x, app_name):\n",
    "    logger = logging.getLogger(x)\n",
    "    logger.setLevel(logging.INFO)\n",
    "    # formatter = logging.Formatter('%(asctime)s,%(msecs)d %(name)s %(levelname)s %(message)s')\n",
    "    formatter = logging.Formatter('%(asctime)s %(levelname)s: %(message)s')\n",
    "    fn = f'logs/LOG-{x}-{app_name}-{ datetime.now().strftime(\"%Y_%m_%d-%H:%M:%S:%f\")}'\n",
    "    \n",
    "    file_handler = RotatingFileHandler(fn, maxBytes=200000000, backupCount=5)\n",
    "    file_handler.setFormatter(formatter)\n",
    "    file_handler.setLevel(logging.INFO)\n",
    "    logger.addHandler(file_handler)\n",
    "    \n",
    "    stdout_handler = logging.StreamHandler(sys.stdout)\n",
    "    stdout_handler.setLevel(logging.WARNING)\n",
    "    stdout_handler.setFormatter(formatter)\n",
    "    logger.addHandler(stdout_handler)\n",
    "    return logger\n",
    "\n",
    "logger_all = create_logger('ALL', app_name)\n",
    "logger_client = create_logger('CLIENT', app_name)\n",
    "logger_compute_mgr = create_logger('COMPUTE MGR', app_name)\n",
    "logger_segment_client = create_logger('SEGMENT CLIENT', app_name)\n",
    "\n",
    "conf = fl.FTILConf().set_app_name(\"nonverbose\") \\\n",
    "                    .set_rabbitmq_conf({'user': 'ftillite', 'password': 'ftillite', 'host': 'rabbitmq.ftillite-gpu', \\\n",
    "                                        'AUSTRAC':'0', 'ANZ':'1', 'CBA':'2', 'NAB':'3', 'WPC':'4'})\\\n",
    "                    .set_client_logger(logger_client)\\\n",
    "                    .set_compute_manager_logger(logger_compute_mgr) \\\n",
    "                    .set_segment_client_logger(logger_segment_client)\n",
    "                    # .set_all_loggers(logger_all)\n",
    "    \n",
    "\n",
    "fc = fl.FTILContext(conf = conf)"
   ]
  },
  {
   "cell_type": "code",
   "execution_count": 2,
   "id": "7c176469-4511-489b-93d7-749fd40c013b",
   "metadata": {},
   "outputs": [],
   "source": [
    "start = time.time()\n",
    "\n",
    "def get_branch2node(fc):\n",
    "  branch2node_first = fc.array('i', 1000000, -1)\n",
    "  branch2node_last = fc.array('i', 1000000, -1)\n",
    "  all_accounts = Pair(fc.array('i'), fc.array('i'))\n",
    "  peer_nodes = fc.scope().difference(fc.CoordinatorID)\n",
    "  with fl.on(peer_nodes):\n",
    "    bsbs = fc.array('i')\n",
    "    bsbs.auxdb_read(\"SELECT DISTINCT bsb FROM accounts;\")\n",
    "  bsbs = fl.transmit({i : bsbs for i in fc.scope()})\n",
    "  k = bsbs.keys()\n",
    "  for i in k:\n",
    "    branch2node_last[bsbs[i]] = i.num()\n",
    "  for i in reversed(k):\n",
    "    branch2node_first[bsbs[i]] = i.num()\n",
    "  fl.verify(branch2node_first == branch2node_last)\n",
    "  return branch2node_first\n",
    "\n",
    "branch2node = get_branch2node(fc)"
   ]
  },
  {
   "cell_type": "code",
   "execution_count": 3,
   "id": "4d64d211-a27d-43ee-9efa-a444d61f8db6",
   "metadata": {},
   "outputs": [],
   "source": [
    "def distribute_tag(tag, pub_key):\n",
    "  out_scope = tag.context().scope().difference([tag.context().CoordinatorID])\n",
    "  map = {}\n",
    "  with fl.on(tag.scope()):\n",
    "    for n in out_scope:\n",
    "      # This can be done more efficiently using \"discard_items\".\n",
    "      ind = (branch2node[tag.keys().first] == n.num()).index()\n",
    "      map[n] = Dict(tag.keys()[ind], tag.values()[ind])\n",
    "  # The next loop performs refreshing, prior to transmitting.\n",
    "  for n in out_scope:\n",
    "    with fl.on(tag.scope().difference(set([n]))):\n",
    "      elgamal_refresh(map[n].values(), pub_key)\n",
    "  return fl.transmit(map)\n",
    "\n",
    "\n",
    "\n",
    "def fintracer_step(tag, txs, pub_key):\n",
    "  fc = fl.get_context([tag, txs, pub_key])\n",
    "  with fl.on(tag.scope()):\n",
    "    zero = fc.array('i', 1)\n",
    "    nonce = elgamal_encrypt(zero, pub_key)\n",
    "    next_tag = tag.stub()\n",
    "    with fl.massop():\n",
    "      next_tag.reduce_sum(txs.second, tag.lookup(txs.first, nonce))\n",
    "  map = distribute_tag(next_tag, pub_key)\n",
    "  scope = set()\n",
    "  for n in map:\n",
    "    scope.update(map[n].scope())\n",
    "  with fl.on(scope):\n",
    "    # We need to create here a new empty tag, but can't use \".stub()\" because\n",
    "    # it may have a different scope than any existing tag.\n",
    "    # In a real implementation, we would have had a \"tag\" type, and all this\n",
    "    # would have happened automatically.\n",
    "    accounts_stub = Pair(fc.array('i'), fc.array('i'))\n",
    "    cipher_stub = ElGamalCipher(fc)\n",
    "    rc = Dict(accounts_stub, cipher_stub)\n",
    "    for n in map:\n",
    "      with fl.on(map[n].scope()):\n",
    "        rc += map[n]\n",
    "  return rc"
   ]
  },
  {
   "cell_type": "code",
   "execution_count": 4,
   "id": "08fed67c-64e7-4912-9b2e-44a8606a6114",
   "metadata": {},
   "outputs": [],
   "source": [
    "epsilon = 0.001\n",
    "delta = 0.001\n",
    "\n",
    "from math import exp, log, ceil, floor\n",
    "\n",
    "def diff_priv_amount(epsilon, delta):\n",
    "    gamma = 1 - exp(-epsilon)\n",
    "    Y = max(0, ceil(log(gamma*(gamma-delta)/(delta*(1-exp(-2*epsilon))) + 1) / epsilon))\n",
    "    t = 1 + (delta - 1) * exp(-epsilon) - delta * exp((Y - 1)*epsilon)\n",
    "    r = fc.randomarray('f', 1, 1-gamma/t, 1)\n",
    "    x = Y + floor(fl.mux(r > 0, -fl.log(r)/epsilon, fl.log(1+ r*t/(delta*exp((Y-1)*epsilon)))/epsilon))\n",
    "    return x"
   ]
  },
  {
   "cell_type": "code",
   "execution_count": 5,
   "id": "3f2f7f43-1842-4ec0-8705-f9cdc1b0a73d",
   "metadata": {},
   "outputs": [],
   "source": [
    "with fl.on(fc.CoordinatorID): # On the coordinator node...\n",
    "\n",
    "  # Creating an ElGamal key pair.\n",
    "  (priv_key, local_pub_key) = elgamal_keygen(fc)\n",
    "\n",
    "# Back on all nodes: distributing the public key across all nodes.\n",
    "pub_key = fl.transmit({i : local_pub_key for i in fc.scope()})[fc.CoordinatorID]\n",
    "\n",
    "# On the peer nodes...\n",
    "peer_nodes = fc.scope().difference(fc.CoordinatorID)\n"
   ]
  },
  {
   "cell_type": "code",
   "execution_count": 6,
   "id": "844bce54-dc9c-4ec3-9d10-bde45e8a1d62",
   "metadata": {},
   "outputs": [],
   "source": [
    "# plain_zero = fc.array('E', 1)\n",
    "# zero = elgamal_encrypt(plain_zero, pub_key)\n",
    "\n",
    "zero = ElGamalCipher(fc)\n",
    "zero.set_length(1)\n",
    "\n",
    "with fl.on(fc.CoordinatorID):\n",
    "    local_plain_zero = zero.decrypt(priv_key)\n",
    "    \n",
    "plain_zero = fl.transmit({n : local_plain_zero for n in fc.scope()})[fc.CoordinatorID]\n",
    "\n",
    "def read_tag(tag, targets, priv_key, pub_key):\n",
    "    with fl.on(peer_nodes):\n",
    "        target_values = tag.lookup(targets, zero)\n",
    "        elgamal_sanitise(target_values)\n",
    "        x = diff_priv_amount(epsilon, delta)\n",
    "        target_values.set_length(target_values.len() + x)\n",
    "        elgamal_refresh(target_values, pub_key)\n",
    "        perm = fc.randomperm(target_values.len())\n",
    "        v = target_values[perm]\n",
    "    v_local = fl.transmit({fc.CoordinatorID : v})\n",
    "    with fl.on(fc.CoordinatorID):\n",
    "        d_local = {n : x.decrypt(priv_key) != plain_zero for n,x in v_local.items()}\n",
    "    d = fl.transmit(d_local)[fc.CoordinatorID]\n",
    "    with fl.on(peer_nodes):\n",
    "        rc = targets[perm[d.index()]]\n",
    "    rc_local = fl.transmit({fc.CoordinatorID : rc})\n",
    "    return {n.name() : list(v) for n,v in rc_local.items()}\n"
   ]
  },
  {
   "cell_type": "code",
   "execution_count": 7,
   "id": "d0a37ea6-6a8e-4db7-a968-0f92928babbf",
   "metadata": {},
   "outputs": [],
   "source": [
    "\n",
    "accounts = Pair(fc.array('i'), fc.array('i'))\n",
    "\n",
    "transactions = Pair(accounts, accounts)\n",
    "\n",
    "with fl.on(peer_nodes):\n",
    "  transactions.auxdb_read(\"SELECT DISTINCT origin_bsb, origin_id, dest_bsb, dest_id FROM transactions;\")\n",
    "\n",
    "# def double_size(x):\n",
    "#     xl = x.len()\n",
    "#     x.set_length(2*xl)\n",
    "#     x[xl:] = x[:xl]\n",
    "\n",
    "# with fl.on(peer_nodes):\n",
    "#     transactions.auxdb_read(\"SELECT DISTINCT origin_bsb, origin_id, dest_bsb, dest_id FROM transactions;\")\n",
    "#     double_size(transactions)\n",
    "#     double_size(transactions)\n",
    "#     double_size(transactions)\n",
    "#     double_size(transactions)\n",
    "#     double_size(transactions)\n",
    "#     double_size(transactions)\n",
    "    \n",
    "\n",
    "with fl.on(peer_nodes):\n",
    "  # accounts.auxdb_read(\"SELECT DISTINCT bsb, account_id FROM accounts LIMIT 2;\")\n",
    "  # sources = accounts[0]\n",
    "  # targets = accounts[1]\n",
    "  sources = Pair(fc.array('i'), fc.array('i'))\n",
    "  sources.auxdb_read(\"\"\"\n",
    "SELECT bsb, account_id FROM (\n",
    "SELECT ROW_NUMBER () OVER (\n",
    "  ORDER BY bsb, account_id\n",
    ") RowNum,\n",
    "bsb, account_id FROM (SELECT DISTINCT bsb, account_id FROM accounts) s\n",
    ") t WHERE RowNum <= 3;\n",
    "\"\"\")\n",
    "  targets = Pair(fc.array('i'), fc.array('i'))\n",
    "  targets.auxdb_read(\"\"\"\n",
    "SELECT bsb, account_id FROM (\n",
    "SELECT ROW_NUMBER () OVER (\n",
    "  ORDER BY bsb, account_id\n",
    ") RowNum,\n",
    "bsb, account_id FROM (SELECT DISTINCT bsb, account_id FROM accounts) s\n",
    ") t WHERE RowNum > 3 AND RowNum <= 6;\n",
    "\"\"\")\n",
    "  \n",
    "  values = fc.array('i', sources.len(), 1)\n",
    "  ciphertext = elgamal_encrypt(values, pub_key)\n",
    "  dist_tag = Dict(sources, ciphertext)\n"
   ]
  },
  {
   "cell_type": "code",
   "execution_count": 8,
   "id": "5e555818-5cb6-45e9-815e-56439ee4e546",
   "metadata": {},
   "outputs": [
    {
     "name": "stdout",
     "output_type": "stream",
     "text": [
      "Step start.\n",
      "Step end.\n",
      "Time for FinTracer step: 388.6347622871399\n"
     ]
    }
   ],
   "source": [
    "print(\"Step start.\")\n",
    "step_start = time.time()\n",
    "dist_tag = fintracer_step(dist_tag, transactions, pub_key)\n",
    "step_end = time.time()\n",
    "print(\"Step end.\")\n",
    "\n",
    "print(f\"Time for FinTracer step: {step_end - step_start}\")"
   ]
  },
  {
   "cell_type": "code",
   "execution_count": 9,
   "id": "f925c953-5c42-428d-aec3-03b741180577",
   "metadata": {},
   "outputs": [
    {
     "name": "stdout",
     "output_type": "stream",
     "text": [
      "Read start\n",
      "Read end\n",
      "Return value: {'ANZ': [], 'CBA': [(62040, 602476646)], 'NAB': [], 'WPC': [(32065, 792735483)]}\n",
      "Read time: 58.2859001159668\n"
     ]
    }
   ],
   "source": [
    "print(\"Read start\")\n",
    "read_start = time.time()\n",
    "rc = read_tag(dist_tag, targets, priv_key, pub_key)\n",
    "read_end = time.time()\n",
    "print(\"Read end\")\n",
    "\n",
    "print(f\"Return value: {rc}\")\n",
    "\n",
    "print(f\"Read time: {read_end - read_start}\")"
   ]
  },
  {
   "cell_type": "code",
   "execution_count": 10,
   "id": "c9929ccc-17f8-450f-9afa-0ed609e26c11",
   "metadata": {},
   "outputs": [
    {
     "name": "stdout",
     "output_type": "stream",
     "text": [
      "Step start.\n",
      "Step end.\n",
      "Time for FinTracer step: 390.67502784729004\n"
     ]
    }
   ],
   "source": [
    "print(\"Step start.\")\n",
    "step_start = time.time()\n",
    "dist_tag = fintracer_step(dist_tag, transactions, pub_key)\n",
    "step_end = time.time()\n",
    "print(\"Step end.\")\n",
    "\n",
    "print(f\"Time for FinTracer step: {step_end - step_start}\")"
   ]
  },
  {
   "cell_type": "code",
   "execution_count": 11,
   "id": "c74dac36-2cc9-409c-8e21-502bddf541c5",
   "metadata": {},
   "outputs": [
    {
     "name": "stdout",
     "output_type": "stream",
     "text": [
      "Read start\n",
      "Read end\n",
      "Return value: {'ANZ': [(12019, 984622093), (12033, 617510505)], 'CBA': [], 'NAB': [], 'WPC': [(32065, 792735483), (32062, 849904364)]}\n",
      "Read time: 57.96979212760925\n"
     ]
    }
   ],
   "source": [
    "print(\"Read start\")\n",
    "read_start = time.time()\n",
    "rc = read_tag(dist_tag, targets, priv_key, pub_key)\n",
    "read_end = time.time()\n",
    "print(\"Read end\")\n",
    "\n",
    "print(f\"Return value: {rc}\")\n",
    "\n",
    "print(f\"Read time: {read_end - read_start}\")"
   ]
  },
  {
   "cell_type": "code",
   "execution_count": 12,
   "id": "01ae7ace-9809-41c0-9929-2cf966449acd",
   "metadata": {},
   "outputs": [
    {
     "name": "stdout",
     "output_type": "stream",
     "text": [
      "Done.\n",
      "Time for the full computation: 978.5195806026459\n"
     ]
    }
   ],
   "source": [
    "print(\"Done.\")\n",
    "end = time.time()\n",
    "print(f\"Time for the full computation: {end - start}\")"
   ]
  },
  {
   "cell_type": "code",
   "execution_count": null,
   "id": "e2427534-9812-4172-a563-752b9427a167",
   "metadata": {},
   "outputs": [],
   "source": []
  }
 ],
 "metadata": {
  "kernelspec": {
   "display_name": "Python 3 (ipykernel)",
   "language": "python",
   "name": "python3"
  },
  "language_info": {
   "codemirror_mode": {
    "name": "ipython",
    "version": 3
   },
   "file_extension": ".py",
   "mimetype": "text/x-python",
   "name": "python",
   "nbconvert_exporter": "python",
   "pygments_lexer": "ipython3",
   "version": "3.8.13"
  }
 },
 "nbformat": 4,
 "nbformat_minor": 5
}
